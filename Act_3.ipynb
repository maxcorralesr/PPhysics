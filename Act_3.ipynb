{
 "cells": [
  {
   "cell_type": "code",
   "execution_count": 20,
   "id": "4d263206-a14e-4bf8-b310-eee7c0227059",
   "metadata": {},
   "outputs": [
    {
     "name": "stdin",
     "output_type": "stream",
     "text": [
      "Ingrese el número de puntos para la simulación Monte Carlo (o 0 para salir):  1\n"
     ]
    },
    {
     "name": "stdout",
     "output_type": "stream",
     "text": [
      "Estimación de Pi: 4.0\n",
      "Porcentaje de error: 27.3240%\n",
      "\n"
     ]
    },
    {
     "name": "stdin",
     "output_type": "stream",
     "text": [
      "Ingrese el número de puntos para la simulación Monte Carlo (o 0 para salir):  10\n"
     ]
    },
    {
     "name": "stdout",
     "output_type": "stream",
     "text": [
      "Estimación de Pi: 2.4\n",
      "Porcentaje de error: 23.6056%\n",
      "\n"
     ]
    },
    {
     "name": "stdin",
     "output_type": "stream",
     "text": [
      "Ingrese el número de puntos para la simulación Monte Carlo (o 0 para salir):  100\n"
     ]
    },
    {
     "name": "stdout",
     "output_type": "stream",
     "text": [
      "Estimación de Pi: 3.0\n",
      "Porcentaje de error: 4.5070%\n",
      "\n"
     ]
    },
    {
     "name": "stdin",
     "output_type": "stream",
     "text": [
      "Ingrese el número de puntos para la simulación Monte Carlo (o 0 para salir):  1000\n"
     ]
    },
    {
     "name": "stdout",
     "output_type": "stream",
     "text": [
      "Estimación de Pi: 3.272\n",
      "Porcentaje de error: 4.1510%\n",
      "\n"
     ]
    },
    {
     "name": "stdin",
     "output_type": "stream",
     "text": [
      "Ingrese el número de puntos para la simulación Monte Carlo (o 0 para salir):  10000\n"
     ]
    },
    {
     "name": "stdout",
     "output_type": "stream",
     "text": [
      "Estimación de Pi: 3.1376\n",
      "Porcentaje de error: 0.1271%\n",
      "\n"
     ]
    },
    {
     "name": "stdin",
     "output_type": "stream",
     "text": [
      "Ingrese el número de puntos para la simulación Monte Carlo (o 0 para salir):  100000\n"
     ]
    },
    {
     "name": "stdout",
     "output_type": "stream",
     "text": [
      "Estimación de Pi: 3.14168\n",
      "Porcentaje de error: 0.0028%\n",
      "\n"
     ]
    },
    {
     "name": "stdin",
     "output_type": "stream",
     "text": [
      "Ingrese el número de puntos para la simulación Monte Carlo (o 0 para salir):  1000000\n"
     ]
    },
    {
     "name": "stdout",
     "output_type": "stream",
     "text": [
      "Estimación de Pi: 3.143348\n",
      "Porcentaje de error: 0.0559%\n",
      "\n"
     ]
    },
    {
     "name": "stdin",
     "output_type": "stream",
     "text": [
      "Ingrese el número de puntos para la simulación Monte Carlo (o 0 para salir):  0\n"
     ]
    },
    {
     "name": "stdout",
     "output_type": "stream",
     "text": [
      "Simulación finalizada.\n"
     ]
    }
   ],
   "source": [
    "import random\n",
    "import math\n",
    "\n",
    "def monte_carlo_pi(num_points):\n",
    "    inside_circle = 0\n",
    "\n",
    "    # Generamos puntos aleatorios y verificamos si están dentro del círculo (codigo del profe)\n",
    "    for _ in range(num_points):\n",
    "        x, y = random.random(), random.random()\n",
    "        if x**2 + y**2 <= 1:\n",
    "            inside_circle += 1\n",
    "\n",
    "    # Calculamos la estimación de Pi\n",
    "    pi_estimate = (inside_circle / num_points) * 4\n",
    "    return pi_estimate\n",
    "\n",
    "def calculate_error(pi_estimate):\n",
    "    pi_real = math.pi\n",
    "    # Calculamos el porcentaje de error\n",
    "    error_percentage = abs((pi_estimate - pi_real) / pi_real) * 100\n",
    "    return error_percentage\n",
    "\n",
    "if __name__ == \"__main__\":\n",
    "    while True:\n",
    "        # Preguntarle al usuario la cantidad de puntos para la simulación\n",
    "        num_points = int(input(\"Ingrese el número de puntos para simularlos (o 0 para terminar): \"))\n",
    "        \n",
    "        if num_points == 0:\n",
    "            print(\"Simulación finalizada.\")\n",
    "            break\n",
    "        \n",
    "        # Calcular la estimación de Pi y el porcentaje de error\n",
    "        pi_estimate = monte_carlo_pi(num_points)\n",
    "        error = calculate_error(pi_estimate)\n",
    "\n",
    "        # Muestra de los resultados\n",
    "        print(f\"Estimación de Pi: {pi_estimate}\")\n",
    "        print(f\"Porcentaje de error: {error:.4f}%\\n\")\n"
   ]
  },
  {
   "cell_type": "code",
   "execution_count": null,
   "id": "f8ab5938-c45c-455f-9ed6-305abbb8b150",
   "metadata": {},
   "outputs": [],
   "source": []
  }
 ],
 "metadata": {
  "kernelspec": {
   "display_name": "Python [conda env:base] *",
   "language": "python",
   "name": "conda-base-py"
  },
  "language_info": {
   "codemirror_mode": {
    "name": "ipython",
    "version": 3
   },
   "file_extension": ".py",
   "mimetype": "text/x-python",
   "name": "python",
   "nbconvert_exporter": "python",
   "pygments_lexer": "ipython3",
   "version": "3.12.7"
  }
 },
 "nbformat": 4,
 "nbformat_minor": 5
}
